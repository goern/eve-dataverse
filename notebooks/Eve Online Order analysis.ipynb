{
 "cells": [
  {
   "cell_type": "markdown",
   "metadata": {},
   "source": [
    "# Eve Online Order analysis"
   ]
  },
  {
   "cell_type": "code",
   "execution_count": 27,
   "metadata": {},
   "outputs": [
    {
     "data": {
      "text/html": [
       "<div>\n",
       "<style scoped>\n",
       "    .dataframe tbody tr th:only-of-type {\n",
       "        vertical-align: middle;\n",
       "    }\n",
       "\n",
       "    .dataframe tbody tr th {\n",
       "        vertical-align: top;\n",
       "    }\n",
       "\n",
       "    .dataframe thead th {\n",
       "        text-align: right;\n",
       "    }\n",
       "</style>\n",
       "<table border=\"1\" class=\"dataframe\">\n",
       "  <thead>\n",
       "    <tr style=\"text-align: right;\">\n",
       "      <th></th>\n",
       "      <th>duration</th>\n",
       "      <th>is_buy_order</th>\n",
       "      <th>issued</th>\n",
       "      <th>location_id</th>\n",
       "      <th>min_volume</th>\n",
       "      <th>order_id</th>\n",
       "      <th>price</th>\n",
       "      <th>range</th>\n",
       "      <th>system_id</th>\n",
       "      <th>type_id</th>\n",
       "      <th>volume_remain</th>\n",
       "      <th>volume_total</th>\n",
       "    </tr>\n",
       "  </thead>\n",
       "  <tbody>\n",
       "    <tr>\n",
       "      <th>0</th>\n",
       "      <td>90</td>\n",
       "      <td>False</td>\n",
       "      <td>2019-08-09T20:22:58Z</td>\n",
       "      <td>60005047</td>\n",
       "      <td>1</td>\n",
       "      <td>5482713865</td>\n",
       "      <td>6.50</td>\n",
       "      <td>region</td>\n",
       "      <td>30002506</td>\n",
       "      <td>34</td>\n",
       "      <td>9825753</td>\n",
       "      <td>9825753</td>\n",
       "    </tr>\n",
       "    <tr>\n",
       "      <th>1</th>\n",
       "      <td>30</td>\n",
       "      <td>False</td>\n",
       "      <td>2019-08-10T12:30:49Z</td>\n",
       "      <td>60005050</td>\n",
       "      <td>1</td>\n",
       "      <td>5483742553</td>\n",
       "      <td>6.45</td>\n",
       "      <td>region</td>\n",
       "      <td>30002508</td>\n",
       "      <td>34</td>\n",
       "      <td>4785</td>\n",
       "      <td>4785</td>\n",
       "    </tr>\n",
       "    <tr>\n",
       "      <th>2</th>\n",
       "      <td>30</td>\n",
       "      <td>False</td>\n",
       "      <td>2019-08-10T12:08:41Z</td>\n",
       "      <td>60005050</td>\n",
       "      <td>1</td>\n",
       "      <td>5483728349</td>\n",
       "      <td>6.45</td>\n",
       "      <td>region</td>\n",
       "      <td>30002508</td>\n",
       "      <td>34</td>\n",
       "      <td>4</td>\n",
       "      <td>154</td>\n",
       "    </tr>\n",
       "    <tr>\n",
       "      <th>3</th>\n",
       "      <td>7</td>\n",
       "      <td>False</td>\n",
       "      <td>2019-08-07T17:04:45Z</td>\n",
       "      <td>60005050</td>\n",
       "      <td>1</td>\n",
       "      <td>5481794606</td>\n",
       "      <td>6.50</td>\n",
       "      <td>region</td>\n",
       "      <td>30002508</td>\n",
       "      <td>34</td>\n",
       "      <td>11633409</td>\n",
       "      <td>11633409</td>\n",
       "    </tr>\n",
       "    <tr>\n",
       "      <th>4</th>\n",
       "      <td>7</td>\n",
       "      <td>False</td>\n",
       "      <td>2019-08-12T04:00:00Z</td>\n",
       "      <td>60009109</td>\n",
       "      <td>1</td>\n",
       "      <td>5485166194</td>\n",
       "      <td>6.25</td>\n",
       "      <td>region</td>\n",
       "      <td>30002509</td>\n",
       "      <td>34</td>\n",
       "      <td>35554881</td>\n",
       "      <td>35554881</td>\n",
       "    </tr>\n",
       "  </tbody>\n",
       "</table>\n",
       "</div>"
      ],
      "text/plain": [
       "   duration  is_buy_order                issued  location_id  min_volume  \\\n",
       "0        90         False  2019-08-09T20:22:58Z     60005047           1   \n",
       "1        30         False  2019-08-10T12:30:49Z     60005050           1   \n",
       "2        30         False  2019-08-10T12:08:41Z     60005050           1   \n",
       "3         7         False  2019-08-07T17:04:45Z     60005050           1   \n",
       "4         7         False  2019-08-12T04:00:00Z     60009109           1   \n",
       "\n",
       "     order_id  price   range  system_id  type_id  volume_remain  volume_total  \n",
       "0  5482713865   6.50  region   30002506       34        9825753       9825753  \n",
       "1  5483742553   6.45  region   30002508       34           4785          4785  \n",
       "2  5483728349   6.45  region   30002508       34              4           154  \n",
       "3  5481794606   6.50  region   30002508       34       11633409      11633409  \n",
       "4  5485166194   6.25  region   30002509       34       35554881      35554881  "
      ]
     },
     "execution_count": 27,
     "metadata": {},
     "output_type": "execute_result"
    }
   ],
   "source": [
    "import json\n",
    "\n",
    "import pandas as pd\n",
    "\n",
    "with open(\"../orders.json\") as file:\n",
    "    data = json.load(file)\n",
    "\n",
    "orders = pd.DataFrame(data)\n",
    "\n",
    "orders.head()\n"
   ]
  },
  {
   "cell_type": "code",
   "execution_count": 28,
   "metadata": {},
   "outputs": [
    {
     "data": {
      "text/html": [
       "<div>\n",
       "<style scoped>\n",
       "    .dataframe tbody tr th:only-of-type {\n",
       "        vertical-align: middle;\n",
       "    }\n",
       "\n",
       "    .dataframe tbody tr th {\n",
       "        vertical-align: top;\n",
       "    }\n",
       "\n",
       "    .dataframe thead th {\n",
       "        text-align: right;\n",
       "    }\n",
       "</style>\n",
       "<table border=\"1\" class=\"dataframe\">\n",
       "  <thead>\n",
       "    <tr style=\"text-align: right;\">\n",
       "      <th></th>\n",
       "      <th>duration</th>\n",
       "      <th>location_id</th>\n",
       "      <th>min_volume</th>\n",
       "      <th>order_id</th>\n",
       "      <th>price</th>\n",
       "      <th>system_id</th>\n",
       "      <th>type_id</th>\n",
       "      <th>volume_remain</th>\n",
       "      <th>volume_total</th>\n",
       "    </tr>\n",
       "  </thead>\n",
       "  <tbody>\n",
       "    <tr>\n",
       "      <th>count</th>\n",
       "      <td>108.000000</td>\n",
       "      <td>1.080000e+02</td>\n",
       "      <td>108.000000</td>\n",
       "      <td>1.080000e+02</td>\n",
       "      <td>108.000000</td>\n",
       "      <td>1.080000e+02</td>\n",
       "      <td>108.0</td>\n",
       "      <td>1.080000e+02</td>\n",
       "      <td>1.080000e+02</td>\n",
       "    </tr>\n",
       "    <tr>\n",
       "      <th>mean</th>\n",
       "      <td>72.333333</td>\n",
       "      <td>3.818753e+10</td>\n",
       "      <td>1.916667</td>\n",
       "      <td>5.463544e+09</td>\n",
       "      <td>17.361481</td>\n",
       "      <td>3.000438e+07</td>\n",
       "      <td>34.0</td>\n",
       "      <td>3.771189e+07</td>\n",
       "      <td>4.954079e+07</td>\n",
       "    </tr>\n",
       "    <tr>\n",
       "      <th>std</th>\n",
       "      <td>32.061856</td>\n",
       "      <td>1.953194e+11</td>\n",
       "      <td>9.526279</td>\n",
       "      <td>6.363991e+07</td>\n",
       "      <td>68.676917</td>\n",
       "      <td>3.904682e+03</td>\n",
       "      <td>0.0</td>\n",
       "      <td>7.909339e+07</td>\n",
       "      <td>8.854614e+07</td>\n",
       "    </tr>\n",
       "    <tr>\n",
       "      <th>min</th>\n",
       "      <td>1.000000</td>\n",
       "      <td>6.000112e+07</td>\n",
       "      <td>1.000000</td>\n",
       "      <td>4.856772e+09</td>\n",
       "      <td>0.150000</td>\n",
       "      <td>3.000251e+07</td>\n",
       "      <td>34.0</td>\n",
       "      <td>4.000000e+00</td>\n",
       "      <td>1.540000e+02</td>\n",
       "    </tr>\n",
       "    <tr>\n",
       "      <th>25%</th>\n",
       "      <td>90.000000</td>\n",
       "      <td>6.000459e+07</td>\n",
       "      <td>1.000000</td>\n",
       "      <td>5.465496e+09</td>\n",
       "      <td>5.587500</td>\n",
       "      <td>3.000251e+07</td>\n",
       "      <td>34.0</td>\n",
       "      <td>8.949475e+04</td>\n",
       "      <td>1.117745e+05</td>\n",
       "    </tr>\n",
       "    <tr>\n",
       "      <th>50%</th>\n",
       "      <td>90.000000</td>\n",
       "      <td>6.000505e+07</td>\n",
       "      <td>1.000000</td>\n",
       "      <td>5.478412e+09</td>\n",
       "      <td>6.500000</td>\n",
       "      <td>3.000254e+07</td>\n",
       "      <td>34.0</td>\n",
       "      <td>4.394820e+06</td>\n",
       "      <td>1.000000e+07</td>\n",
       "    </tr>\n",
       "    <tr>\n",
       "      <th>75%</th>\n",
       "      <td>90.000000</td>\n",
       "      <td>6.001479e+07</td>\n",
       "      <td>1.000000</td>\n",
       "      <td>5.483890e+09</td>\n",
       "      <td>6.800000</td>\n",
       "      <td>3.000255e+07</td>\n",
       "      <td>34.0</td>\n",
       "      <td>3.885351e+07</td>\n",
       "      <td>7.675000e+07</td>\n",
       "    </tr>\n",
       "    <tr>\n",
       "      <th>max</th>\n",
       "      <td>90.000000</td>\n",
       "      <td>1.030851e+12</td>\n",
       "      <td>100.000000</td>\n",
       "      <td>5.485856e+09</td>\n",
       "      <td>617.000000</td>\n",
       "      <td>3.001255e+07</td>\n",
       "      <td>34.0</td>\n",
       "      <td>5.562458e+08</td>\n",
       "      <td>6.000000e+08</td>\n",
       "    </tr>\n",
       "  </tbody>\n",
       "</table>\n",
       "</div>"
      ],
      "text/plain": [
       "         duration   location_id  min_volume      order_id       price  \\\n",
       "count  108.000000  1.080000e+02  108.000000  1.080000e+02  108.000000   \n",
       "mean    72.333333  3.818753e+10    1.916667  5.463544e+09   17.361481   \n",
       "std     32.061856  1.953194e+11    9.526279  6.363991e+07   68.676917   \n",
       "min      1.000000  6.000112e+07    1.000000  4.856772e+09    0.150000   \n",
       "25%     90.000000  6.000459e+07    1.000000  5.465496e+09    5.587500   \n",
       "50%     90.000000  6.000505e+07    1.000000  5.478412e+09    6.500000   \n",
       "75%     90.000000  6.001479e+07    1.000000  5.483890e+09    6.800000   \n",
       "max     90.000000  1.030851e+12  100.000000  5.485856e+09  617.000000   \n",
       "\n",
       "          system_id  type_id  volume_remain  volume_total  \n",
       "count  1.080000e+02    108.0   1.080000e+02  1.080000e+02  \n",
       "mean   3.000438e+07     34.0   3.771189e+07  4.954079e+07  \n",
       "std    3.904682e+03      0.0   7.909339e+07  8.854614e+07  \n",
       "min    3.000251e+07     34.0   4.000000e+00  1.540000e+02  \n",
       "25%    3.000251e+07     34.0   8.949475e+04  1.117745e+05  \n",
       "50%    3.000254e+07     34.0   4.394820e+06  1.000000e+07  \n",
       "75%    3.000255e+07     34.0   3.885351e+07  7.675000e+07  \n",
       "max    3.001255e+07     34.0   5.562458e+08  6.000000e+08  "
      ]
     },
     "execution_count": 28,
     "metadata": {},
     "output_type": "execute_result"
    }
   ],
   "source": [
    "orders.describe()"
   ]
  },
  {
   "cell_type": "code",
   "execution_count": 24,
   "metadata": {},
   "outputs": [],
   "source": [
    "import json\n",
    "\n",
    "import pandas as pd\n",
    "\n",
    "with open(\"../types.json\") as file:\n",
    "    data = json.load(file)\n",
    "\n",
    "types = pd.DataFrame(data)"
   ]
  },
  {
   "cell_type": "markdown",
   "metadata": {},
   "source": [
    "Let's see what Type 34 is..."
   ]
  },
  {
   "cell_type": "code",
   "execution_count": 5,
   "metadata": {},
   "outputs": [
    {
     "name": "stdout",
     "output_type": "stream",
     "text": [
      "30    Tritanium\n",
      "Name: name, dtype: object\n"
     ]
    }
   ],
   "source": [
    "print(types.loc[types[\"type_id\"] == 34][\"name\"])"
   ]
  },
  {
   "cell_type": "code",
   "execution_count": 6,
   "metadata": {},
   "outputs": [],
   "source": [
    "import seaborn as sns\n",
    "sns.set()"
   ]
  },
  {
   "cell_type": "code",
   "execution_count": 17,
   "metadata": {},
   "outputs": [
    {
     "data": {
      "text/plain": [
       "<matplotlib.axes._subplots.AxesSubplot at 0x12b33c8d0>"
      ]
     },
     "execution_count": 17,
     "metadata": {},
     "output_type": "execute_result"
    },
    {
     "data": {
      "image/png": "[encoded data removed]",
      "text/plain": [
       "<Figure size 432x288 with 1 Axes>"
      ]
     },
     "metadata": {
      "needs_background": "light"
     },
     "output_type": "display_data"
    }
   ],
   "source": [
    "sns.distplot(orders.price)"
   ]
  },
  {
   "cell_type": "markdown",
   "metadata": {},
   "source": [
    "That's a nice diagram, but we might have some outliers we want to get rid of. We do that by just keeping the once +/- the standard deviation away from the mean."
   ]
  },
  {
   "cell_type": "code",
   "execution_count": 18,
   "metadata": {},
   "outputs": [],
   "source": [
    "import numpy as np\n",
    "\n",
    "o = orders[np.abs(orders.price-orders.price.mean()) <= (3*orders.price.std())]\n"
   ]
  },
  {
   "cell_type": "markdown",
   "metadata": {},
   "source": [
    "Plotting the new data frame gives us a little bit more focus."
   ]
  },
  {
   "cell_type": "code",
   "execution_count": 19,
   "metadata": {},
   "outputs": [
    {
     "data": {
      "text/plain": [
       "<matplotlib.axes._subplots.AxesSubplot at 0x12b4d5790>"
      ]
     },
     "execution_count": 19,
     "metadata": {},
     "output_type": "execute_result"
    },
    {
     "data": {
      "image/png": "[encoded data removed]",
      "text/plain": [
       "<Figure size 432x288 with 1 Axes>"
      ]
     },
     "metadata": {
      "needs_background": "light"
     },
     "output_type": "display_data"
    }
   ],
   "source": [
    "sns.distplot(o.price.dropna())\n"
   ]
  },
  {
   "cell_type": "code",
   "execution_count": null,
   "metadata": {},
   "outputs": [],
   "source": []
  }
 ],
 "metadata": {
  "kernelspec": {
   "display_name": "Python 3",
   "language": "python",
   "name": "python3"
  },
  "language_info": {
   "codemirror_mode": {
    "name": "ipython",
    "version": 3
   },
   "file_extension": ".py",
   "mimetype": "text/x-python",
   "name": "python",
   "nbconvert_exporter": "python",
   "pygments_lexer": "ipython3",
   "version": "3.7.4"
  }
 },
 "nbformat": 4,
 "nbformat_minor": 2
}
