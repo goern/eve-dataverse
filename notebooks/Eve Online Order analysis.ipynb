{
 "cells": [
  {
   "cell_type": "markdown",
   "metadata": {},
   "source": [
    "# Eve Online Order analysis"
   ]
  },
  {
   "cell_type": "code",
   "execution_count": 27,
   "metadata": {},
   "outputs": [
    {
     "data": {
      "text/html": [
       "<div>\n",
       "<style scoped>\n",
       "    .dataframe tbody tr th:only-of-type {\n",
       "        vertical-align: middle;\n",
       "    }\n",
       "\n",
       "    .dataframe tbody tr th {\n",
       "        vertical-align: top;\n",
       "    }\n",
       "\n",
       "    .dataframe thead th {\n",
       "        text-align: right;\n",
       "    }\n",
       "</style>\n",
       "<table border=\"1\" class=\"dataframe\">\n",
       "  <thead>\n",
       "    <tr style=\"text-align: right;\">\n",
       "      <th></th>\n",
       "      <th>duration</th>\n",
       "      <th>is_buy_order</th>\n",
       "      <th>issued</th>\n",
       "      <th>location_id</th>\n",
       "      <th>min_volume</th>\n",
       "      <th>order_id</th>\n",
       "      <th>price</th>\n",
       "      <th>range</th>\n",
       "      <th>system_id</th>\n",
       "      <th>type_id</th>\n",
       "      <th>volume_remain</th>\n",
       "      <th>volume_total</th>\n",
       "    </tr>\n",
       "  </thead>\n",
       "  <tbody>\n",
       "    <tr>\n",
       "      <th>0</th>\n",
       "      <td>90</td>\n",
       "      <td>False</td>\n",
       "      <td>2019-08-01T12:27:34Z</td>\n",
       "      <td>60004588</td>\n",
       "      <td>1</td>\n",
       "      <td>5475959262</td>\n",
       "      <td>6.76</td>\n",
       "      <td>region</td>\n",
       "      <td>30002510</td>\n",
       "      <td>34</td>\n",
       "      <td>16507408</td>\n",
       "      <td>30000000</td>\n",
       "    </tr>\n",
       "    <tr>\n",
       "      <th>1</th>\n",
       "      <td>90</td>\n",
       "      <td>False</td>\n",
       "      <td>2019-07-30T09:31:12Z</td>\n",
       "      <td>60004588</td>\n",
       "      <td>1</td>\n",
       "      <td>5475840118</td>\n",
       "      <td>6.85</td>\n",
       "      <td>region</td>\n",
       "      <td>30002510</td>\n",
       "      <td>34</td>\n",
       "      <td>10022707</td>\n",
       "      <td>10022707</td>\n",
       "    </tr>\n",
       "    <tr>\n",
       "      <th>2</th>\n",
       "      <td>90</td>\n",
       "      <td>False</td>\n",
       "      <td>2019-07-28T20:11:27Z</td>\n",
       "      <td>60004588</td>\n",
       "      <td>1</td>\n",
       "      <td>5474772100</td>\n",
       "      <td>6.84</td>\n",
       "      <td>region</td>\n",
       "      <td>30002510</td>\n",
       "      <td>34</td>\n",
       "      <td>23538</td>\n",
       "      <td>23538</td>\n",
       "    </tr>\n",
       "    <tr>\n",
       "      <th>3</th>\n",
       "      <td>90</td>\n",
       "      <td>False</td>\n",
       "      <td>2019-07-29T18:06:20Z</td>\n",
       "      <td>60004588</td>\n",
       "      <td>1</td>\n",
       "      <td>5475405865</td>\n",
       "      <td>6.83</td>\n",
       "      <td>region</td>\n",
       "      <td>30002510</td>\n",
       "      <td>34</td>\n",
       "      <td>26950</td>\n",
       "      <td>26950</td>\n",
       "    </tr>\n",
       "    <tr>\n",
       "      <th>4</th>\n",
       "      <td>90</td>\n",
       "      <td>False</td>\n",
       "      <td>2019-07-31T12:09:40Z</td>\n",
       "      <td>60004588</td>\n",
       "      <td>1</td>\n",
       "      <td>5474041662</td>\n",
       "      <td>6.80</td>\n",
       "      <td>region</td>\n",
       "      <td>30002510</td>\n",
       "      <td>34</td>\n",
       "      <td>186520057</td>\n",
       "      <td>201366164</td>\n",
       "    </tr>\n",
       "  </tbody>\n",
       "</table>\n",
       "</div>"
      ],
      "text/plain": [
       "   duration  is_buy_order                issued  location_id  min_volume  \\\n",
       "0        90         False  2019-08-01T12:27:34Z     60004588           1   \n",
       "1        90         False  2019-07-30T09:31:12Z     60004588           1   \n",
       "2        90         False  2019-07-28T20:11:27Z     60004588           1   \n",
       "3        90         False  2019-07-29T18:06:20Z     60004588           1   \n",
       "4        90         False  2019-07-31T12:09:40Z     60004588           1   \n",
       "\n",
       "     order_id  price   range  system_id  type_id  volume_remain  volume_total  \n",
       "0  5475959262   6.76  region   30002510       34       16507408      30000000  \n",
       "1  5475840118   6.85  region   30002510       34       10022707      10022707  \n",
       "2  5474772100   6.84  region   30002510       34          23538         23538  \n",
       "3  5475405865   6.83  region   30002510       34          26950         26950  \n",
       "4  5474041662   6.80  region   30002510       34      186520057     201366164  "
      ]
     },
     "execution_count": 27,
     "metadata": {},
     "output_type": "execute_result"
    }
   ],
   "source": [
    "import json\n",
    "\n",
    "import pandas as pd\n",
    "\n",
    "with open(\"../orders.json\") as file:\n",
    "    data = json.load(file)\n",
    "\n",
    "orders = pd.DataFrame(data)\n",
    "\n",
    "orders.head()"
   ]
  },
  {
   "cell_type": "code",
   "execution_count": 28,
   "metadata": {},
   "outputs": [],
   "source": [
    "import json\n",
    "\n",
    "import pandas as pd\n",
    "\n",
    "with open(\"../types.json\") as file:\n",
    "    data = json.load(file)\n",
    "\n",
    "types = pd.DataFrame(data)"
   ]
  },
  {
   "cell_type": "markdown",
   "metadata": {},
   "source": [
    "Let's see what Type 34 is..."
   ]
  },
  {
   "cell_type": "code",
   "execution_count": 29,
   "metadata": {},
   "outputs": [
    {
     "name": "stdout",
     "output_type": "stream",
     "text": [
      "30    Tritanium\n",
      "Name: name, dtype: object\n"
     ]
    }
   ],
   "source": [
    "print(types.loc[types[\"type_id\"] == 34][\"name\"])"
   ]
  },
  {
   "cell_type": "code",
   "execution_count": 30,
   "metadata": {},
   "outputs": [],
   "source": [
    "import seaborn as sns\n",
    "sns.set()"
   ]
  },
  {
   "cell_type": "code",
   "execution_count": 31,
   "metadata": {},
   "outputs": [
    {
     "data": {
      "text/plain": [
       "<matplotlib.axes._subplots.AxesSubplot at 0x12cf66048>"
      ]
     },
     "execution_count": 31,
     "metadata": {},
     "output_type": "execute_result"
    },
    {
     "data": {
      "image/png": "[encoded data removed]",
      "text/plain": [
       "<Figure size 432x288 with 1 Axes>"
      ]
     },
     "metadata": {},
     "output_type": "display_data"
    }
   ],
   "source": [
    "sns.distplot(orders.price)\n"
   ]
  },
  {
   "cell_type": "markdown",
   "metadata": {},
   "source": [
    "That's a nice diagram, but we might have some outliers we want to get rid of. We do that by just keeping the once +/- the standard deviation away from the mean."
   ]
  },
  {
   "cell_type": "code",
   "execution_count": 32,
   "metadata": {},
   "outputs": [],
   "source": [
    "import numpy as np\n",
    "\n",
    "o = orders[np.abs(orders.price-orders.price.mean()) <= (orders.price.std())]\n"
   ]
  },
  {
   "cell_type": "markdown",
   "metadata": {},
   "source": [
    "Plotting the new data frame gives us a little bit more focus."
   ]
  },
  {
   "cell_type": "code",
   "execution_count": 37,
   "metadata": {},
   "outputs": [
    {
     "data": {
      "text/plain": [
       "<matplotlib.axes._subplots.AxesSubplot at 0x12c7a6630>"
      ]
     },
     "execution_count": 37,
     "metadata": {},
     "output_type": "execute_result"
    },
    {
     "data": {
      "image/png": "[encoded data removed]",
      "text/plain": [
       "<Figure size 432x288 with 1 Axes>"
      ]
     },
     "metadata": {},
     "output_type": "display_data"
    }
   ],
   "source": [
    "sns.distplot(o.price.dropna())\n"
   ]
  },
  {
   "cell_type": "code",
   "execution_count": null,
   "metadata": {},
   "outputs": [],
   "source": []
  }
 ],
 "metadata": {
  "kernelspec": {
   "display_name": "Python 3",
   "language": "python",
   "name": "python3"
  },
  "language_info": {
   "codemirror_mode": {
    "name": "ipython",
    "version": 3
   },
   "file_extension": ".py",
   "mimetype": "text/x-python",
   "name": "python",
   "nbconvert_exporter": "python",
   "pygments_lexer": "ipython3",
   "version": "3.7.3"
  }
 },
 "nbformat": 4,
 "nbformat_minor": 2
}
