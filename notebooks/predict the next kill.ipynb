{
 "cells": [
  {
   "cell_type": "markdown",
   "metadata": {},
   "source": [
    "# predict the next kill\n",
    "\n",
    "\n",
    "This notebook tries to develop a model that shall be able to predict the next location and time of a kill of a specific character (2115480998) in Eve Online."
   ]
  },
  {
   "cell_type": "code",
   "execution_count": 93,
   "metadata": {},
   "outputs": [
    {
     "name": "stdout",
     "output_type": "stream",
     "text": [
      "<class 'pandas.core.frame.DataFrame'>\n",
      "MultiIndex: 200 entries, (78746030, 32aa7d360c0dd7d78eef7d9425bfcb71844a40cc) to (78007746, 160d8fd4331820259d91b6a980faf14bc296bbe1)\n",
      "Data columns (total 8 columns):\n",
      "killmail_time     200 non-null datetime64[ns, UTC]\n",
      "location_id       200 non-null int64\n",
      "fitted_value      200 non-null int64\n",
      "total_value       200 non-null int64\n",
      "character_id      200 non-null int64\n",
      "character_name    200 non-null object\n",
      "victim_id         200 non-null int64\n",
      "victim_name       200 non-null object\n",
      "dtypes: datetime64[ns, UTC](1), int64(5), object(2)\n",
      "memory usage: 16.5+ KB\n"
     ]
    }
   ],
   "source": [
    "import pandas as pd\n",
    "\n",
    "\n",
    "pd.set_option(\"display.max_columns\", None)\n",
    "date_cols = [\"killmail_time\"]\n",
    "\n",
    "X_df = pd.read_csv(\"../2115480998.kills.csv\", index_col=[0,1],dtype={\"kill_time\": \"str\"}, parse_dates=date_cols)\n",
    "\n",
    "\n",
    "X_df.info()"
   ]
  },
  {
   "cell_type": "code",
   "execution_count": null,
   "metadata": {},
   "outputs": [],
   "source": []
  }
 ],
 "metadata": {
  "kernelspec": {
   "display_name": "Python 3",
   "language": "python",
   "name": "python3"
  },
  "language_info": {
   "codemirror_mode": {
    "name": "ipython",
    "version": 3
   },
   "file_extension": ".py",
   "mimetype": "text/x-python",
   "name": "python",
   "nbconvert_exporter": "python",
   "pygments_lexer": "ipython3",
   "version": "3.7.4"
  }
 },
 "nbformat": 4,
 "nbformat_minor": 2
}
